{
 "cells": [
  {
   "cell_type": "code",
   "execution_count": 1,
   "metadata": {},
   "outputs": [
    {
     "name": "stdout",
     "output_type": "stream",
     "text": [
      "Model training completed and saved!\n"
     ]
    }
   ],
   "source": [
    "import pandas as pd\n",
    "import numpy as np\n",
    "from sklearn.model_selection import train_test_split\n",
    "from sklearn.ensemble import RandomForestClassifier\n",
    "from sklearn.preprocessing import LabelEncoder\n",
    "import joblib\n",
    "\n",
    "# Load dataset\n",
    "df = pd.read_csv(r\"C:\\Users\\MAHE\\Downloads\\Hackathon\\website\\backend\\large_student_data.csv\")\n",
    "\n",
    "# Fill missing subjects with 0 (indicating the student did not take that subject)\n",
    "df.fillna(0, inplace=True)\n",
    "\n",
    "# Dynamically Calculate Cutoffs Only If Subject Exists\n",
    "def calculate_cutoffs(row):\n",
    "    cutoff_eng = (row[\"Math\"] * 2 + row[\"Physics\"] + row[\"Chemistry\"]) / 4 if row[\"Math\"] and row[\"Physics\"] and row[\"Chemistry\"] else 0\n",
    "    cutoff_med = (row[\"Biology\"] * 2 + row[\"Physics\"] + row[\"Chemistry\"]) / 4 if row[\"Biology\"] and row[\"Physics\"] and row[\"Chemistry\"] else 0\n",
    "    cutoff_comm = (row[\"Commerce\"] * 2 + row[\"Math\"]) / 3 if row[\"Commerce\"] and row[\"Math\"] else 0\n",
    "    cutoff_arts = np.mean([row[\"Math\"], row[\"Physics\"], row[\"Chemistry\"], row[\"Biology\"], row[\"CS\"], row[\"Commerce\"]])  # Use only available subjects\n",
    "\n",
    "    return pd.Series([cutoff_eng, cutoff_med, cutoff_comm, cutoff_arts])\n",
    "\n",
    "# Apply Cutoff Calculation\n",
    "df[[\"Cutoff_Eng\", \"Cutoff_Med\", \"Cutoff_Comm\", \"Cutoff_Arts\"]] = df.apply(calculate_cutoffs, axis=1)\n",
    "\n",
    "# Encode target variable (Recommended_Stream)\n",
    "le = LabelEncoder()\n",
    "df[\"Recommended_Stream\"] = le.fit_transform(df[\"Recommended_Stream\"])\n",
    "\n",
    "# Select Features & Target\n",
    "X = df[[\"Cutoff_Eng\", \"Cutoff_Med\", \"Cutoff_Comm\", \"Cutoff_Arts\"]]\n",
    "y = df[\"Recommended_Stream\"]\n",
    "\n",
    "# Train-Test Split\n",
    "X_train, X_test, y_train, y_test = train_test_split(X, y, test_size=0.2, random_state=42)\n",
    "\n",
    "# Train Model\n",
    "model = RandomForestClassifier(n_estimators=100, random_state=42)\n",
    "model.fit(X_train, y_train)\n",
    "\n",
    "# Save Model & Label Encoder\n",
    "joblib.dump(model, \"stream_recommender.pkl\")\n",
    "joblib.dump(le, \"label_encoder.pkl\")\n",
    "\n",
    "print(\"Model training completed and saved!\")"
   ]
  }
 ],
 "metadata": {
  "kernelspec": {
   "display_name": "Python 3",
   "language": "python",
   "name": "python3"
  },
  "language_info": {
   "codemirror_mode": {
    "name": "ipython",
    "version": 3
   },
   "file_extension": ".py",
   "mimetype": "text/x-python",
   "name": "python",
   "nbconvert_exporter": "python",
   "pygments_lexer": "ipython3",
   "version": "3.12.6"
  }
 },
 "nbformat": 4,
 "nbformat_minor": 2
}
